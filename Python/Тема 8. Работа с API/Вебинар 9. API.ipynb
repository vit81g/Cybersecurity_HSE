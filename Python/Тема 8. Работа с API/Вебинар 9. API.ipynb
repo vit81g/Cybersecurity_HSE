{
  "cells": [
    {
      "cell_type": "markdown",
      "id": "2085f298-ed71-4257-825d-87459ba0bd4a",
      "metadata": {
        "id": "2085f298-ed71-4257-825d-87459ba0bd4a"
      },
      "source": [
        "# Вебинар. Работа с API"
      ]
    },
    {
      "cell_type": "markdown",
      "metadata": {
        "id": "pbcH57-MksRr",
        "tags": []
      },
      "source": [
        "## Проверка связи"
      ],
      "id": "pbcH57-MksRr"
    },
    {
      "cell_type": "markdown",
      "metadata": {
        "id": "aq_cAJwVksRs"
      },
      "source": [
        "**Поставьте в чат:**<br>\n",
        "\\+ если меня видно и слышно<br>\n",
        " – если нет\n",
        "\n",
        "**Если у вас нет звука:**\n",
        "\n",
        "* убедитесь, что на вашем устройстве и в колонках включён звук\n",
        "\n",
        "* обновите страницу вебинара или закройте её и переподключитесь\n",
        "\n",
        "* откройте вебинар в другом браузере\n",
        "\n",
        "* перезагрузите ваше устройство и войдите снова"
      ],
      "id": "aq_cAJwVksRs"
    },
    {
      "cell_type": "markdown",
      "metadata": {
        "id": "lGmyF92MksRs"
      },
      "source": [
        "## О спикере"
      ],
      "id": "lGmyF92MksRs"
    },
    {
      "cell_type": "markdown",
      "metadata": {
        "id": "IQ5tPuttksRt",
        "tags": []
      },
      "source": [
        "**Глеб Пехов**\n",
        "- Backend-разработчик на Python с 5-летним опытом работы\n",
        "- Преподаватель в Нетологии"
      ],
      "id": "IQ5tPuttksRt"
    },
    {
      "cell_type": "markdown",
      "source": [
        "## Правила участия"
      ],
      "metadata": {
        "id": "mfCYMvwKTjqd"
      },
      "id": "mfCYMvwKTjqd"
    },
    {
      "cell_type": "markdown",
      "source": [
        "1. Продолжительность вебинара — 80 минут. Через 40 минут сделаем перерыв на 5 минут\n",
        "2. Запустите Jupyter Notebook / Google Colab / IDE для выполнения практических заданий вебинара. Во время демонстрации работы повторяйте за спикером: это помогает лучше понять материал\n",
        "3. Вопросы и уточнения:\n",
        "  - создайте копию этого блокнота, чтобы фиксировать вопросы и важную информацию во время занятия\n",
        "  - вы можете писать вопросы в чате во время вебинара или высказывать их в блоке «Ваши вопросы»\n",
        "4. Запись вебинара будет доступна в личном кабинете"
      ],
      "metadata": {
        "id": "NCPYxDrCToeb"
      },
      "id": "NCPYxDrCToeb"
    },
    {
      "cell_type": "markdown",
      "metadata": {
        "id": "JFQrFju9ksRu"
      },
      "source": [
        "## Цели занятия"
      ],
      "id": "JFQrFju9ksRu"
    },
    {
      "cell_type": "markdown",
      "metadata": {
        "id": "p8Pbfc0eksRv",
        "tags": []
      },
      "source": [
        "- Узнать, что такое API у сторонних сервисов и для чего его используют\n",
        "- Понять основы работы с API"
      ],
      "id": "p8Pbfc0eksRv"
    },
    {
      "cell_type": "markdown",
      "metadata": {
        "id": "y0L-W3AYksRv"
      },
      "source": [
        "## План занятия"
      ],
      "id": "y0L-W3AYksRv"
    },
    {
      "cell_type": "markdown",
      "metadata": {
        "id": "nUBc6G7rksRv"
      },
      "source": [
        "1. Введение в работу с API в Python\n",
        "2. Основные методы HTTP\n",
        "3. Аутентификация при работе с API\n",
        "4. Работа с JSON\n",
        "5. Заголовки HTTP\n",
        "6. Статус-коды"
      ],
      "id": "nUBc6G7rksRv"
    },
    {
      "cell_type": "markdown",
      "metadata": {
        "id": "CxE3zVrXksRv"
      },
      "source": [
        "## Ваши вопросы"
      ],
      "id": "CxE3zVrXksRv"
    },
    {
      "cell_type": "markdown",
      "id": "1365e4d9-55a0-48cd-aa4c-4386dd10cb99",
      "metadata": {
        "id": "1365e4d9-55a0-48cd-aa4c-4386dd10cb99"
      },
      "source": [
        "# 1. Введение в работу с API в Python\n",
        "API (Application Programming Interface) — это интерфейс, который позволяет различным программным приложениям взаимодействовать друг с другом. В Python работа с API часто осуществляется через библиотеку `requests`, которая упрощает процесс отправки HTTP-запросов и обработки ответов."
      ]
    },
    {
      "cell_type": "markdown",
      "id": "6af607fd-821a-43a7-9e5b-7a7a65f06529",
      "metadata": {
        "id": "6af607fd-821a-43a7-9e5b-7a7a65f06529"
      },
      "source": [
        "## Основные понятия API\n",
        "\n",
        "- **Запрос (request)** — действие, которое клиент (например, ваше приложение) отправляет на сервер для получения данных. Запрос может содержать различные параметры, такие как метод (GET, POST и т.д.), заголовки и тело запроса\n",
        "- **Ответ (response)** — данные, которые сервер возвращает клиенту в ответ на запрос. Ответ включает код состояния (например, 200 для успешного запроса), заголовки и тело ответа"
      ]
    },
    {
      "cell_type": "markdown",
      "id": "5cc815de-7f57-4c7a-9bd4-101359b01a0f",
      "metadata": {
        "id": "5cc815de-7f57-4c7a-9bd4-101359b01a0f"
      },
      "source": [
        "## Установка библиотеки requests\n",
        "\n",
        "Для работы с API в Python необходимо установить библиотеку `requests`. Это можно сделать с помощью pip:\n",
        "\n",
        "```bash\n",
        "pip install requests"
      ]
    },
    {
      "cell_type": "markdown",
      "id": "baf1970a-27b8-480a-ba29-13b1578c76cf",
      "metadata": {
        "id": "baf1970a-27b8-480a-ba29-13b1578c76cf"
      },
      "source": [
        "pip install request"
      ]
    },
    {
      "cell_type": "markdown",
      "metadata": {
        "id": "JchRa1Gmvrp2"
      },
      "source": [
        "## Ваши вопросы"
      ],
      "id": "JchRa1Gmvrp2"
    },
    {
      "cell_type": "markdown",
      "id": "a3c1ea90-3e6e-4af5-8f6f-9ce1bd679f05",
      "metadata": {
        "id": "a3c1ea90-3e6e-4af5-8f6f-9ce1bd679f05"
      },
      "source": [
        "# 2. Основные методы HTTP\n",
        "\n",
        "При работе с API используются различные методы HTTP. Наиболее распространенные из них:\n",
        "\n",
        "## 1. GET\n",
        "**Описание:** используется для получения данных.  \n",
        "**Применение:** запрос информации о ресурсе с сервера.  \n",
        "**Пример:** клиент отправляет GET-запрос на `https://www.example.com/products/12345`, чтобы получить информацию о продукте с ID 12345.\n",
        "\n",
        "## 2. POST\n",
        "**Описание:** используется для создания новых данных.  \n",
        "**Применение:** отправка данных на сервер для обработки, например, создание нового пользователя.  \n",
        "**Пример:** клиент отправляет POST-запрос на `https://www.example.com/users` с данными в теле запроса для создания нового пользователя.\n",
        "\n",
        "## 3. PUT\n",
        "**Описание:** используется для обновления существующих данных.  \n",
        "**Применение:** обновление информации о ресурсе на сервере.  \n",
        "**Пример:** клиент отправляет PUT-запрос на `https://www.example.com/users/12345` с обновленными данными в теле запроса для изменения информации о пользователе с ID 12345.\n",
        "\n",
        "## 4. DELETE\n",
        "**Описание:** используется для удаления данных.  \n",
        "**Применение:** удаление ресурса с сервера.  \n",
        "**Пример:** клиент отправляет DELETE-запрос на `https://www.example.com/products/12345`, чтобы удалить продукт с ID 12345."
      ]
    },
    {
      "cell_type": "markdown",
      "id": "78b086cb-246f-4424-87fb-cfc5fa437020",
      "metadata": {
        "id": "78b086cb-246f-4424-87fb-cfc5fa437020"
      },
      "source": [
        "## Пример простого запроса\n",
        "Рассмотрим пример выполнения GET-запроса к API для генерации случайных пользовательских данных:"
      ]
    },
    {
      "cell_type": "code",
      "execution_count": null,
      "id": "7a4dcc90-503f-41ee-a01c-30a4f9cadc8d",
      "metadata": {
        "id": "7a4dcc90-503f-41ee-a01c-30a4f9cadc8d",
        "outputId": "f1778851-5367-4773-9dc0-d761ea3750ff"
      },
      "outputs": [
        {
          "name": "stdout",
          "output_type": "stream",
          "text": [
            "{'results': [{'gender': 'male', 'name': {'title': 'Mr', 'first': 'Lilian', 'last': 'Martin'}, 'location': {'street': {'number': 6609, 'name': 'Rue de la Barre'}, 'city': 'Toulon', 'state': 'Loire-Atlantique', 'country': 'France', 'postcode': 11760, 'coordinates': {'latitude': '-18.2702', 'longitude': '-11.3449'}, 'timezone': {'offset': '+6:00', 'description': 'Almaty, Dhaka, Colombo'}}, 'email': 'lilian.martin@example.com', 'login': {'uuid': '7acaae90-f63f-41f2-baaf-d30253a95593', 'username': 'redzebra865', 'password': 'nellie', 'salt': '9zm7h9lQ', 'md5': 'f7622de05c44322ca4354e1573990973', 'sha1': '24c142eb8edc822766799f43cbc9e3a7deef283d', 'sha256': 'e2a4d99e4bae5875ba63386c58026df43d9cf41654ceeeb9a1bfe137141125fd'}, 'dob': {'date': '1956-09-06T18:01:51.614Z', 'age': 68}, 'registered': {'date': '2002-05-05T19:29:05.454Z', 'age': 22}, 'phone': '02-26-53-35-21', 'cell': '06-30-35-64-87', 'id': {'name': 'INSEE', 'value': '1560842836160 60'}, 'picture': {'large': 'https://randomuser.me/api/portraits/men/18.jpg', 'medium': 'https://randomuser.me/api/portraits/med/men/18.jpg', 'thumbnail': 'https://randomuser.me/api/portraits/thumb/men/18.jpg'}, 'nat': 'FR'}], 'info': {'seed': '06deb15637ebade5', 'results': 1, 'page': 1, 'version': '1.4'}}\n"
          ]
        }
      ],
      "source": [
        "import requests\n",
        "\n",
        "response = requests.get('https://randomuser.me/api/')\n",
        "if response.status_code == 200:\n",
        "    data = response.json()  # Получаем данные в формате JSON\n",
        "    print(data)\n",
        "else:\n",
        "    print(f'Ошибка: {response.status_code}')"
      ]
    },
    {
      "cell_type": "markdown",
      "id": "3eaa6dc5-9b81-4b11-8e85-5a7aa3a1e86e",
      "metadata": {
        "id": "3eaa6dc5-9b81-4b11-8e85-5a7aa3a1e86e"
      },
      "source": [
        "В этом примере мы отправляем GET-запрос к API и проверяем код состояния ответа. Если запрос успешен (код 200), мы выводим полученные данные."
      ]
    },
    {
      "cell_type": "markdown",
      "metadata": {
        "id": "rUGjGIoe8kMN"
      },
      "source": [
        "## Ваши вопросы"
      ],
      "id": "rUGjGIoe8kMN"
    },
    {
      "cell_type": "markdown",
      "id": "c83a8bbd-feb3-43bf-8e89-d344c6a13a1c",
      "metadata": {
        "id": "c83a8bbd-feb3-43bf-8e89-d344c6a13a1c"
      },
      "source": [
        "# 3. Аутентификация при работе с API\n",
        "\n",
        "Многие API требуют аутентификации. Наиболее распространенные методы аутентификации включают:\n",
        "\n",
        "## 1. Ключи API\n",
        "**Описание:** уникальные идентификаторы, которые отправляются вместе с запросами.  \n",
        "**Применение:** используются для простого доступа к API, где требуется идентификация клиента.  \n",
        "**Пример использования ключа API:**\n",
        "\n",
        "```python\n",
        "import requests\n",
        "\n",
        "api_key = 'ваш_ключ_API'\n",
        "response = requests.get(f'https://api.example.com/data?api_key={api_key}')\n",
        "\n",
        "if response.status_code == 200:\n",
        "    data = response.json()  # Получаем данные в формате JSON\n",
        "    print(data)\n",
        "else:\n",
        "    print(f'Ошибка: {response.status_code}')"
      ]
    },
    {
      "cell_type": "markdown",
      "id": "93bd8776-bcba-4b0c-8f38-efa64676dada",
      "metadata": {
        "id": "93bd8776-bcba-4b0c-8f38-efa64676dada"
      },
      "source": [
        "## 2. OAuth\n",
        "**Описание:** более сложный метод аутентификации, который используется для безопасного доступа к ресурсам.\n",
        "\n",
        "**Применение:** позволяет пользователям делиться определенными данными с приложением, не раскрывая свои учетные данные.\n",
        "OAuth 2.0 требует несколько шагов для получения токена доступа.\n",
        "\n",
        "**Пример процесса OAuth 2.0:**\n",
        "1. Получение клиентских учетных данных. Получите client_id и client_secret от провайдера API.\n",
        "2. Запрос авторизации. Перенаправьте пользователя на страницу авторизации провайдера.\n",
        "3. Получение токена доступа. После успешной авторизации получите токен доступа."
      ]
    },
    {
      "cell_type": "code",
      "execution_count": null,
      "id": "f3f9f3e7-19f3-4e4c-998a-9d0e9ed95906",
      "metadata": {
        "id": "f3f9f3e7-19f3-4e4c-998a-9d0e9ed95906"
      },
      "outputs": [],
      "source": [
        "import requests\n",
        "\n",
        "# Укажите ваши учетные данные\n",
        "client_id = 'ваш_client_id'\n",
        "client_secret = 'ваш_client_secret'\n",
        "token_url = 'https://provider.com/oauth/token'\n",
        "\n",
        "# Получение токена доступа\n",
        "response = requests.post(token_url, data={\n",
        "    'grant_type': 'client_credentials',\n",
        "    'client_id': client_id,\n",
        "    'client_secret': client_secret,\n",
        "})\n",
        "\n",
        "if response.status_code == 200:\n",
        "    access_token = response.json().get('access_token')\n",
        "    print(f'Access Token: {access_token}')\n",
        "else:\n",
        "    print(f'Ошибка: {response.status_code}')"
      ]
    },
    {
      "cell_type": "markdown",
      "metadata": {
        "id": "Bhndu0WYvxbP"
      },
      "source": [
        "## Ваши вопросы"
      ],
      "id": "Bhndu0WYvxbP"
    },
    {
      "cell_type": "markdown",
      "id": "dbd1cc1d-a124-4c22-8468-17a1df423c1b",
      "metadata": {
        "id": "dbd1cc1d-a124-4c22-8468-17a1df423c1b"
      },
      "source": [
        "# 4. Работа с JSON\n",
        "**Большинство современных API возвращают данные в формате JSON**.\n",
        "\n",
        "Для работы с JSON в Python можно использовать встроенный модуль json. Библиотека requests также предоставляет метод .json(), который автоматически декодирует ответ в формат JSON.\n",
        "Пример обработки ответа JSON:"
      ]
    },
    {
      "cell_type": "code",
      "execution_count": null,
      "id": "402dd977-9dc8-47fa-88ed-d39965c6f4ad",
      "metadata": {
        "id": "402dd977-9dc8-47fa-88ed-d39965c6f4ad",
        "outputId": "2d12b04d-734b-42f4-fbbf-c6e667b40441"
      },
      "outputs": [
        {
          "ename": "ConnectionError",
          "evalue": "HTTPSConnectionPool(host='api.example.com', port=443): Max retries exceeded with url: /data (Caused by NameResolutionError(\"<urllib3.connection.HTTPSConnection object at 0x107a4f530>: Failed to resolve 'api.example.com' ([Errno 8] nodename nor servname provided, or not known)\"))",
          "output_type": "error",
          "traceback": [
            "\u001b[0;31m---------------------------------------------------------------------------\u001b[0m",
            "\u001b[0;31mgaierror\u001b[0m                                  Traceback (most recent call last)",
            "File \u001b[0;32m~/Library/Caches/pypoetry/virtualenvs/payment-service-tq1v0Dxv-py3.12/lib/python3.12/site-packages/urllib3/connection.py:199\u001b[0m, in \u001b[0;36mHTTPConnection._new_conn\u001b[0;34m(self)\u001b[0m\n\u001b[1;32m    198\u001b[0m \u001b[38;5;28;01mtry\u001b[39;00m:\n\u001b[0;32m--> 199\u001b[0m     sock \u001b[38;5;241m=\u001b[39m \u001b[43mconnection\u001b[49m\u001b[38;5;241;43m.\u001b[39;49m\u001b[43mcreate_connection\u001b[49m\u001b[43m(\u001b[49m\n\u001b[1;32m    200\u001b[0m \u001b[43m        \u001b[49m\u001b[43m(\u001b[49m\u001b[38;5;28;43mself\u001b[39;49m\u001b[38;5;241;43m.\u001b[39;49m\u001b[43m_dns_host\u001b[49m\u001b[43m,\u001b[49m\u001b[43m \u001b[49m\u001b[38;5;28;43mself\u001b[39;49m\u001b[38;5;241;43m.\u001b[39;49m\u001b[43mport\u001b[49m\u001b[43m)\u001b[49m\u001b[43m,\u001b[49m\n\u001b[1;32m    201\u001b[0m \u001b[43m        \u001b[49m\u001b[38;5;28;43mself\u001b[39;49m\u001b[38;5;241;43m.\u001b[39;49m\u001b[43mtimeout\u001b[49m\u001b[43m,\u001b[49m\n\u001b[1;32m    202\u001b[0m \u001b[43m        \u001b[49m\u001b[43msource_address\u001b[49m\u001b[38;5;241;43m=\u001b[39;49m\u001b[38;5;28;43mself\u001b[39;49m\u001b[38;5;241;43m.\u001b[39;49m\u001b[43msource_address\u001b[49m\u001b[43m,\u001b[49m\n\u001b[1;32m    203\u001b[0m \u001b[43m        \u001b[49m\u001b[43msocket_options\u001b[49m\u001b[38;5;241;43m=\u001b[39;49m\u001b[38;5;28;43mself\u001b[39;49m\u001b[38;5;241;43m.\u001b[39;49m\u001b[43msocket_options\u001b[49m\u001b[43m,\u001b[49m\n\u001b[1;32m    204\u001b[0m \u001b[43m    \u001b[49m\u001b[43m)\u001b[49m\n\u001b[1;32m    205\u001b[0m \u001b[38;5;28;01mexcept\u001b[39;00m socket\u001b[38;5;241m.\u001b[39mgaierror \u001b[38;5;28;01mas\u001b[39;00m e:\n",
            "File \u001b[0;32m~/Library/Caches/pypoetry/virtualenvs/payment-service-tq1v0Dxv-py3.12/lib/python3.12/site-packages/urllib3/util/connection.py:60\u001b[0m, in \u001b[0;36mcreate_connection\u001b[0;34m(address, timeout, source_address, socket_options)\u001b[0m\n\u001b[1;32m     58\u001b[0m     \u001b[38;5;28;01mraise\u001b[39;00m LocationParseError(\u001b[38;5;124mf\u001b[39m\u001b[38;5;124m\"\u001b[39m\u001b[38;5;124m'\u001b[39m\u001b[38;5;132;01m{\u001b[39;00mhost\u001b[38;5;132;01m}\u001b[39;00m\u001b[38;5;124m'\u001b[39m\u001b[38;5;124m, label empty or too long\u001b[39m\u001b[38;5;124m\"\u001b[39m) \u001b[38;5;28;01mfrom\u001b[39;00m \u001b[38;5;28;01mNone\u001b[39;00m\n\u001b[0;32m---> 60\u001b[0m \u001b[38;5;28;01mfor\u001b[39;00m res \u001b[38;5;129;01min\u001b[39;00m \u001b[43msocket\u001b[49m\u001b[38;5;241;43m.\u001b[39;49m\u001b[43mgetaddrinfo\u001b[49m\u001b[43m(\u001b[49m\u001b[43mhost\u001b[49m\u001b[43m,\u001b[49m\u001b[43m \u001b[49m\u001b[43mport\u001b[49m\u001b[43m,\u001b[49m\u001b[43m \u001b[49m\u001b[43mfamily\u001b[49m\u001b[43m,\u001b[49m\u001b[43m \u001b[49m\u001b[43msocket\u001b[49m\u001b[38;5;241;43m.\u001b[39;49m\u001b[43mSOCK_STREAM\u001b[49m\u001b[43m)\u001b[49m:\n\u001b[1;32m     61\u001b[0m     af, socktype, proto, canonname, sa \u001b[38;5;241m=\u001b[39m res\n",
            "File \u001b[0;32m/opt/homebrew/Cellar/python@3.12/3.12.6/Frameworks/Python.framework/Versions/3.12/lib/python3.12/socket.py:976\u001b[0m, in \u001b[0;36mgetaddrinfo\u001b[0;34m(host, port, family, type, proto, flags)\u001b[0m\n\u001b[1;32m    975\u001b[0m addrlist \u001b[38;5;241m=\u001b[39m []\n\u001b[0;32m--> 976\u001b[0m \u001b[38;5;28;01mfor\u001b[39;00m res \u001b[38;5;129;01min\u001b[39;00m \u001b[43m_socket\u001b[49m\u001b[38;5;241;43m.\u001b[39;49m\u001b[43mgetaddrinfo\u001b[49m\u001b[43m(\u001b[49m\u001b[43mhost\u001b[49m\u001b[43m,\u001b[49m\u001b[43m \u001b[49m\u001b[43mport\u001b[49m\u001b[43m,\u001b[49m\u001b[43m \u001b[49m\u001b[43mfamily\u001b[49m\u001b[43m,\u001b[49m\u001b[43m \u001b[49m\u001b[38;5;28;43mtype\u001b[39;49m\u001b[43m,\u001b[49m\u001b[43m \u001b[49m\u001b[43mproto\u001b[49m\u001b[43m,\u001b[49m\u001b[43m \u001b[49m\u001b[43mflags\u001b[49m\u001b[43m)\u001b[49m:\n\u001b[1;32m    977\u001b[0m     af, socktype, proto, canonname, sa \u001b[38;5;241m=\u001b[39m res\n",
            "\u001b[0;31mgaierror\u001b[0m: [Errno 8] nodename nor servname provided, or not known",
            "\nThe above exception was the direct cause of the following exception:\n",
            "\u001b[0;31mNameResolutionError\u001b[0m                       Traceback (most recent call last)",
            "File \u001b[0;32m~/Library/Caches/pypoetry/virtualenvs/payment-service-tq1v0Dxv-py3.12/lib/python3.12/site-packages/urllib3/connectionpool.py:789\u001b[0m, in \u001b[0;36mHTTPConnectionPool.urlopen\u001b[0;34m(self, method, url, body, headers, retries, redirect, assert_same_host, timeout, pool_timeout, release_conn, chunked, body_pos, preload_content, decode_content, **response_kw)\u001b[0m\n\u001b[1;32m    788\u001b[0m \u001b[38;5;66;03m# Make the request on the HTTPConnection object\u001b[39;00m\n\u001b[0;32m--> 789\u001b[0m response \u001b[38;5;241m=\u001b[39m \u001b[38;5;28;43mself\u001b[39;49m\u001b[38;5;241;43m.\u001b[39;49m\u001b[43m_make_request\u001b[49m\u001b[43m(\u001b[49m\n\u001b[1;32m    790\u001b[0m \u001b[43m    \u001b[49m\u001b[43mconn\u001b[49m\u001b[43m,\u001b[49m\n\u001b[1;32m    791\u001b[0m \u001b[43m    \u001b[49m\u001b[43mmethod\u001b[49m\u001b[43m,\u001b[49m\n\u001b[1;32m    792\u001b[0m \u001b[43m    \u001b[49m\u001b[43murl\u001b[49m\u001b[43m,\u001b[49m\n\u001b[1;32m    793\u001b[0m \u001b[43m    \u001b[49m\u001b[43mtimeout\u001b[49m\u001b[38;5;241;43m=\u001b[39;49m\u001b[43mtimeout_obj\u001b[49m\u001b[43m,\u001b[49m\n\u001b[1;32m    794\u001b[0m \u001b[43m    \u001b[49m\u001b[43mbody\u001b[49m\u001b[38;5;241;43m=\u001b[39;49m\u001b[43mbody\u001b[49m\u001b[43m,\u001b[49m\n\u001b[1;32m    795\u001b[0m \u001b[43m    \u001b[49m\u001b[43mheaders\u001b[49m\u001b[38;5;241;43m=\u001b[39;49m\u001b[43mheaders\u001b[49m\u001b[43m,\u001b[49m\n\u001b[1;32m    796\u001b[0m \u001b[43m    \u001b[49m\u001b[43mchunked\u001b[49m\u001b[38;5;241;43m=\u001b[39;49m\u001b[43mchunked\u001b[49m\u001b[43m,\u001b[49m\n\u001b[1;32m    797\u001b[0m \u001b[43m    \u001b[49m\u001b[43mretries\u001b[49m\u001b[38;5;241;43m=\u001b[39;49m\u001b[43mretries\u001b[49m\u001b[43m,\u001b[49m\n\u001b[1;32m    798\u001b[0m \u001b[43m    \u001b[49m\u001b[43mresponse_conn\u001b[49m\u001b[38;5;241;43m=\u001b[39;49m\u001b[43mresponse_conn\u001b[49m\u001b[43m,\u001b[49m\n\u001b[1;32m    799\u001b[0m \u001b[43m    \u001b[49m\u001b[43mpreload_content\u001b[49m\u001b[38;5;241;43m=\u001b[39;49m\u001b[43mpreload_content\u001b[49m\u001b[43m,\u001b[49m\n\u001b[1;32m    800\u001b[0m \u001b[43m    \u001b[49m\u001b[43mdecode_content\u001b[49m\u001b[38;5;241;43m=\u001b[39;49m\u001b[43mdecode_content\u001b[49m\u001b[43m,\u001b[49m\n\u001b[1;32m    801\u001b[0m \u001b[43m    \u001b[49m\u001b[38;5;241;43m*\u001b[39;49m\u001b[38;5;241;43m*\u001b[39;49m\u001b[43mresponse_kw\u001b[49m\u001b[43m,\u001b[49m\n\u001b[1;32m    802\u001b[0m \u001b[43m\u001b[49m\u001b[43m)\u001b[49m\n\u001b[1;32m    804\u001b[0m \u001b[38;5;66;03m# Everything went great!\u001b[39;00m\n",
            "File \u001b[0;32m~/Library/Caches/pypoetry/virtualenvs/payment-service-tq1v0Dxv-py3.12/lib/python3.12/site-packages/urllib3/connectionpool.py:490\u001b[0m, in \u001b[0;36mHTTPConnectionPool._make_request\u001b[0;34m(self, conn, method, url, body, headers, retries, timeout, chunked, response_conn, preload_content, decode_content, enforce_content_length)\u001b[0m\n\u001b[1;32m    489\u001b[0m         new_e \u001b[38;5;241m=\u001b[39m _wrap_proxy_error(new_e, conn\u001b[38;5;241m.\u001b[39mproxy\u001b[38;5;241m.\u001b[39mscheme)\n\u001b[0;32m--> 490\u001b[0m     \u001b[38;5;28;01mraise\u001b[39;00m new_e\n\u001b[1;32m    492\u001b[0m \u001b[38;5;66;03m# conn.request() calls http.client.*.request, not the method in\u001b[39;00m\n\u001b[1;32m    493\u001b[0m \u001b[38;5;66;03m# urllib3.request. It also calls makefile (recv) on the socket.\u001b[39;00m\n",
            "File \u001b[0;32m~/Library/Caches/pypoetry/virtualenvs/payment-service-tq1v0Dxv-py3.12/lib/python3.12/site-packages/urllib3/connectionpool.py:466\u001b[0m, in \u001b[0;36mHTTPConnectionPool._make_request\u001b[0;34m(self, conn, method, url, body, headers, retries, timeout, chunked, response_conn, preload_content, decode_content, enforce_content_length)\u001b[0m\n\u001b[1;32m    465\u001b[0m \u001b[38;5;28;01mtry\u001b[39;00m:\n\u001b[0;32m--> 466\u001b[0m     \u001b[38;5;28;43mself\u001b[39;49m\u001b[38;5;241;43m.\u001b[39;49m\u001b[43m_validate_conn\u001b[49m\u001b[43m(\u001b[49m\u001b[43mconn\u001b[49m\u001b[43m)\u001b[49m\n\u001b[1;32m    467\u001b[0m \u001b[38;5;28;01mexcept\u001b[39;00m (SocketTimeout, BaseSSLError) \u001b[38;5;28;01mas\u001b[39;00m e:\n",
            "File \u001b[0;32m~/Library/Caches/pypoetry/virtualenvs/payment-service-tq1v0Dxv-py3.12/lib/python3.12/site-packages/urllib3/connectionpool.py:1095\u001b[0m, in \u001b[0;36mHTTPSConnectionPool._validate_conn\u001b[0;34m(self, conn)\u001b[0m\n\u001b[1;32m   1094\u001b[0m \u001b[38;5;28;01mif\u001b[39;00m conn\u001b[38;5;241m.\u001b[39mis_closed:\n\u001b[0;32m-> 1095\u001b[0m     \u001b[43mconn\u001b[49m\u001b[38;5;241;43m.\u001b[39;49m\u001b[43mconnect\u001b[49m\u001b[43m(\u001b[49m\u001b[43m)\u001b[49m\n\u001b[1;32m   1097\u001b[0m \u001b[38;5;66;03m# TODO revise this, see https://github.com/urllib3/urllib3/issues/2791\u001b[39;00m\n",
            "File \u001b[0;32m~/Library/Caches/pypoetry/virtualenvs/payment-service-tq1v0Dxv-py3.12/lib/python3.12/site-packages/urllib3/connection.py:693\u001b[0m, in \u001b[0;36mHTTPSConnection.connect\u001b[0;34m(self)\u001b[0m\n\u001b[1;32m    692\u001b[0m sock: socket\u001b[38;5;241m.\u001b[39msocket \u001b[38;5;241m|\u001b[39m ssl\u001b[38;5;241m.\u001b[39mSSLSocket\n\u001b[0;32m--> 693\u001b[0m \u001b[38;5;28mself\u001b[39m\u001b[38;5;241m.\u001b[39msock \u001b[38;5;241m=\u001b[39m sock \u001b[38;5;241m=\u001b[39m \u001b[38;5;28;43mself\u001b[39;49m\u001b[38;5;241;43m.\u001b[39;49m\u001b[43m_new_conn\u001b[49m\u001b[43m(\u001b[49m\u001b[43m)\u001b[49m\n\u001b[1;32m    694\u001b[0m server_hostname: \u001b[38;5;28mstr\u001b[39m \u001b[38;5;241m=\u001b[39m \u001b[38;5;28mself\u001b[39m\u001b[38;5;241m.\u001b[39mhost\n",
            "File \u001b[0;32m~/Library/Caches/pypoetry/virtualenvs/payment-service-tq1v0Dxv-py3.12/lib/python3.12/site-packages/urllib3/connection.py:206\u001b[0m, in \u001b[0;36mHTTPConnection._new_conn\u001b[0;34m(self)\u001b[0m\n\u001b[1;32m    205\u001b[0m \u001b[38;5;28;01mexcept\u001b[39;00m socket\u001b[38;5;241m.\u001b[39mgaierror \u001b[38;5;28;01mas\u001b[39;00m e:\n\u001b[0;32m--> 206\u001b[0m     \u001b[38;5;28;01mraise\u001b[39;00m NameResolutionError(\u001b[38;5;28mself\u001b[39m\u001b[38;5;241m.\u001b[39mhost, \u001b[38;5;28mself\u001b[39m, e) \u001b[38;5;28;01mfrom\u001b[39;00m \u001b[38;5;21;01me\u001b[39;00m\n\u001b[1;32m    207\u001b[0m \u001b[38;5;28;01mexcept\u001b[39;00m SocketTimeout \u001b[38;5;28;01mas\u001b[39;00m e:\n",
            "\u001b[0;31mNameResolutionError\u001b[0m: <urllib3.connection.HTTPSConnection object at 0x107a4f530>: Failed to resolve 'api.example.com' ([Errno 8] nodename nor servname provided, or not known)",
            "\nThe above exception was the direct cause of the following exception:\n",
            "\u001b[0;31mMaxRetryError\u001b[0m                             Traceback (most recent call last)",
            "File \u001b[0;32m~/Library/Caches/pypoetry/virtualenvs/payment-service-tq1v0Dxv-py3.12/lib/python3.12/site-packages/requests/adapters.py:667\u001b[0m, in \u001b[0;36mHTTPAdapter.send\u001b[0;34m(self, request, stream, timeout, verify, cert, proxies)\u001b[0m\n\u001b[1;32m    666\u001b[0m \u001b[38;5;28;01mtry\u001b[39;00m:\n\u001b[0;32m--> 667\u001b[0m     resp \u001b[38;5;241m=\u001b[39m \u001b[43mconn\u001b[49m\u001b[38;5;241;43m.\u001b[39;49m\u001b[43murlopen\u001b[49m\u001b[43m(\u001b[49m\n\u001b[1;32m    668\u001b[0m \u001b[43m        \u001b[49m\u001b[43mmethod\u001b[49m\u001b[38;5;241;43m=\u001b[39;49m\u001b[43mrequest\u001b[49m\u001b[38;5;241;43m.\u001b[39;49m\u001b[43mmethod\u001b[49m\u001b[43m,\u001b[49m\n\u001b[1;32m    669\u001b[0m \u001b[43m        \u001b[49m\u001b[43murl\u001b[49m\u001b[38;5;241;43m=\u001b[39;49m\u001b[43murl\u001b[49m\u001b[43m,\u001b[49m\n\u001b[1;32m    670\u001b[0m \u001b[43m        \u001b[49m\u001b[43mbody\u001b[49m\u001b[38;5;241;43m=\u001b[39;49m\u001b[43mrequest\u001b[49m\u001b[38;5;241;43m.\u001b[39;49m\u001b[43mbody\u001b[49m\u001b[43m,\u001b[49m\n\u001b[1;32m    671\u001b[0m \u001b[43m        \u001b[49m\u001b[43mheaders\u001b[49m\u001b[38;5;241;43m=\u001b[39;49m\u001b[43mrequest\u001b[49m\u001b[38;5;241;43m.\u001b[39;49m\u001b[43mheaders\u001b[49m\u001b[43m,\u001b[49m\n\u001b[1;32m    672\u001b[0m \u001b[43m        \u001b[49m\u001b[43mredirect\u001b[49m\u001b[38;5;241;43m=\u001b[39;49m\u001b[38;5;28;43;01mFalse\u001b[39;49;00m\u001b[43m,\u001b[49m\n\u001b[1;32m    673\u001b[0m \u001b[43m        \u001b[49m\u001b[43massert_same_host\u001b[49m\u001b[38;5;241;43m=\u001b[39;49m\u001b[38;5;28;43;01mFalse\u001b[39;49;00m\u001b[43m,\u001b[49m\n\u001b[1;32m    674\u001b[0m \u001b[43m        \u001b[49m\u001b[43mpreload_content\u001b[49m\u001b[38;5;241;43m=\u001b[39;49m\u001b[38;5;28;43;01mFalse\u001b[39;49;00m\u001b[43m,\u001b[49m\n\u001b[1;32m    675\u001b[0m \u001b[43m        \u001b[49m\u001b[43mdecode_content\u001b[49m\u001b[38;5;241;43m=\u001b[39;49m\u001b[38;5;28;43;01mFalse\u001b[39;49;00m\u001b[43m,\u001b[49m\n\u001b[1;32m    676\u001b[0m \u001b[43m        \u001b[49m\u001b[43mretries\u001b[49m\u001b[38;5;241;43m=\u001b[39;49m\u001b[38;5;28;43mself\u001b[39;49m\u001b[38;5;241;43m.\u001b[39;49m\u001b[43mmax_retries\u001b[49m\u001b[43m,\u001b[49m\n\u001b[1;32m    677\u001b[0m \u001b[43m        \u001b[49m\u001b[43mtimeout\u001b[49m\u001b[38;5;241;43m=\u001b[39;49m\u001b[43mtimeout\u001b[49m\u001b[43m,\u001b[49m\n\u001b[1;32m    678\u001b[0m \u001b[43m        \u001b[49m\u001b[43mchunked\u001b[49m\u001b[38;5;241;43m=\u001b[39;49m\u001b[43mchunked\u001b[49m\u001b[43m,\u001b[49m\n\u001b[1;32m    679\u001b[0m \u001b[43m    \u001b[49m\u001b[43m)\u001b[49m\n\u001b[1;32m    681\u001b[0m \u001b[38;5;28;01mexcept\u001b[39;00m (ProtocolError, \u001b[38;5;167;01mOSError\u001b[39;00m) \u001b[38;5;28;01mas\u001b[39;00m err:\n",
            "File \u001b[0;32m~/Library/Caches/pypoetry/virtualenvs/payment-service-tq1v0Dxv-py3.12/lib/python3.12/site-packages/urllib3/connectionpool.py:843\u001b[0m, in \u001b[0;36mHTTPConnectionPool.urlopen\u001b[0;34m(self, method, url, body, headers, retries, redirect, assert_same_host, timeout, pool_timeout, release_conn, chunked, body_pos, preload_content, decode_content, **response_kw)\u001b[0m\n\u001b[1;32m    841\u001b[0m     new_e \u001b[38;5;241m=\u001b[39m ProtocolError(\u001b[38;5;124m\"\u001b[39m\u001b[38;5;124mConnection aborted.\u001b[39m\u001b[38;5;124m\"\u001b[39m, new_e)\n\u001b[0;32m--> 843\u001b[0m retries \u001b[38;5;241m=\u001b[39m \u001b[43mretries\u001b[49m\u001b[38;5;241;43m.\u001b[39;49m\u001b[43mincrement\u001b[49m\u001b[43m(\u001b[49m\n\u001b[1;32m    844\u001b[0m \u001b[43m    \u001b[49m\u001b[43mmethod\u001b[49m\u001b[43m,\u001b[49m\u001b[43m \u001b[49m\u001b[43murl\u001b[49m\u001b[43m,\u001b[49m\u001b[43m \u001b[49m\u001b[43merror\u001b[49m\u001b[38;5;241;43m=\u001b[39;49m\u001b[43mnew_e\u001b[49m\u001b[43m,\u001b[49m\u001b[43m \u001b[49m\u001b[43m_pool\u001b[49m\u001b[38;5;241;43m=\u001b[39;49m\u001b[38;5;28;43mself\u001b[39;49m\u001b[43m,\u001b[49m\u001b[43m \u001b[49m\u001b[43m_stacktrace\u001b[49m\u001b[38;5;241;43m=\u001b[39;49m\u001b[43msys\u001b[49m\u001b[38;5;241;43m.\u001b[39;49m\u001b[43mexc_info\u001b[49m\u001b[43m(\u001b[49m\u001b[43m)\u001b[49m\u001b[43m[\u001b[49m\u001b[38;5;241;43m2\u001b[39;49m\u001b[43m]\u001b[49m\n\u001b[1;32m    845\u001b[0m \u001b[43m\u001b[49m\u001b[43m)\u001b[49m\n\u001b[1;32m    846\u001b[0m retries\u001b[38;5;241m.\u001b[39msleep()\n",
            "File \u001b[0;32m~/Library/Caches/pypoetry/virtualenvs/payment-service-tq1v0Dxv-py3.12/lib/python3.12/site-packages/urllib3/util/retry.py:519\u001b[0m, in \u001b[0;36mRetry.increment\u001b[0;34m(self, method, url, response, error, _pool, _stacktrace)\u001b[0m\n\u001b[1;32m    518\u001b[0m     reason \u001b[38;5;241m=\u001b[39m error \u001b[38;5;129;01mor\u001b[39;00m ResponseError(cause)\n\u001b[0;32m--> 519\u001b[0m     \u001b[38;5;28;01mraise\u001b[39;00m MaxRetryError(_pool, url, reason) \u001b[38;5;28;01mfrom\u001b[39;00m \u001b[38;5;21;01mreason\u001b[39;00m  \u001b[38;5;66;03m# type: ignore[arg-type]\u001b[39;00m\n\u001b[1;32m    521\u001b[0m log\u001b[38;5;241m.\u001b[39mdebug(\u001b[38;5;124m\"\u001b[39m\u001b[38;5;124mIncremented Retry for (url=\u001b[39m\u001b[38;5;124m'\u001b[39m\u001b[38;5;132;01m%s\u001b[39;00m\u001b[38;5;124m'\u001b[39m\u001b[38;5;124m): \u001b[39m\u001b[38;5;132;01m%r\u001b[39;00m\u001b[38;5;124m\"\u001b[39m, url, new_retry)\n",
            "\u001b[0;31mMaxRetryError\u001b[0m: HTTPSConnectionPool(host='api.example.com', port=443): Max retries exceeded with url: /data (Caused by NameResolutionError(\"<urllib3.connection.HTTPSConnection object at 0x107a4f530>: Failed to resolve 'api.example.com' ([Errno 8] nodename nor servname provided, or not known)\"))",
            "\nDuring handling of the above exception, another exception occurred:\n",
            "\u001b[0;31mConnectionError\u001b[0m                           Traceback (most recent call last)",
            "Cell \u001b[0;32mIn[9], line 1\u001b[0m\n\u001b[0;32m----> 1\u001b[0m response \u001b[38;5;241m=\u001b[39m \u001b[43mrequests\u001b[49m\u001b[38;5;241;43m.\u001b[39;49m\u001b[43mget\u001b[49m\u001b[43m(\u001b[49m\u001b[38;5;124;43m'\u001b[39;49m\u001b[38;5;124;43mhttps://api.example.com/data\u001b[39;49m\u001b[38;5;124;43m'\u001b[39;49m\u001b[43m)\u001b[49m\n\u001b[1;32m      2\u001b[0m data \u001b[38;5;241m=\u001b[39m response\u001b[38;5;241m.\u001b[39mjson()  \u001b[38;5;66;03m# Декодируем JSON\u001b[39;00m\n\u001b[1;32m      3\u001b[0m \u001b[38;5;28mprint\u001b[39m(data[\u001b[38;5;124m'\u001b[39m\u001b[38;5;124mключ\u001b[39m\u001b[38;5;124m'\u001b[39m])  \u001b[38;5;66;03m# Выводим значение по ключу\u001b[39;00m\n",
            "File \u001b[0;32m~/Library/Caches/pypoetry/virtualenvs/payment-service-tq1v0Dxv-py3.12/lib/python3.12/site-packages/requests/api.py:73\u001b[0m, in \u001b[0;36mget\u001b[0;34m(url, params, **kwargs)\u001b[0m\n\u001b[1;32m     62\u001b[0m \u001b[38;5;28;01mdef\u001b[39;00m \u001b[38;5;21mget\u001b[39m(url, params\u001b[38;5;241m=\u001b[39m\u001b[38;5;28;01mNone\u001b[39;00m, \u001b[38;5;241m*\u001b[39m\u001b[38;5;241m*\u001b[39mkwargs):\n\u001b[1;32m     63\u001b[0m \u001b[38;5;250m    \u001b[39m\u001b[38;5;124mr\u001b[39m\u001b[38;5;124;03m\"\"\"Sends a GET request.\u001b[39;00m\n\u001b[1;32m     64\u001b[0m \n\u001b[1;32m     65\u001b[0m \u001b[38;5;124;03m    :param url: URL for the new :class:`Request` object.\u001b[39;00m\n\u001b[0;32m   (...)\u001b[0m\n\u001b[1;32m     70\u001b[0m \u001b[38;5;124;03m    :rtype: requests.Response\u001b[39;00m\n\u001b[1;32m     71\u001b[0m \u001b[38;5;124;03m    \"\"\"\u001b[39;00m\n\u001b[0;32m---> 73\u001b[0m     \u001b[38;5;28;01mreturn\u001b[39;00m \u001b[43mrequest\u001b[49m\u001b[43m(\u001b[49m\u001b[38;5;124;43m\"\u001b[39;49m\u001b[38;5;124;43mget\u001b[39;49m\u001b[38;5;124;43m\"\u001b[39;49m\u001b[43m,\u001b[49m\u001b[43m \u001b[49m\u001b[43murl\u001b[49m\u001b[43m,\u001b[49m\u001b[43m \u001b[49m\u001b[43mparams\u001b[49m\u001b[38;5;241;43m=\u001b[39;49m\u001b[43mparams\u001b[49m\u001b[43m,\u001b[49m\u001b[43m \u001b[49m\u001b[38;5;241;43m*\u001b[39;49m\u001b[38;5;241;43m*\u001b[39;49m\u001b[43mkwargs\u001b[49m\u001b[43m)\u001b[49m\n",
            "File \u001b[0;32m~/Library/Caches/pypoetry/virtualenvs/payment-service-tq1v0Dxv-py3.12/lib/python3.12/site-packages/requests/api.py:59\u001b[0m, in \u001b[0;36mrequest\u001b[0;34m(method, url, **kwargs)\u001b[0m\n\u001b[1;32m     55\u001b[0m \u001b[38;5;66;03m# By using the 'with' statement we are sure the session is closed, thus we\u001b[39;00m\n\u001b[1;32m     56\u001b[0m \u001b[38;5;66;03m# avoid leaving sockets open which can trigger a ResourceWarning in some\u001b[39;00m\n\u001b[1;32m     57\u001b[0m \u001b[38;5;66;03m# cases, and look like a memory leak in others.\u001b[39;00m\n\u001b[1;32m     58\u001b[0m \u001b[38;5;28;01mwith\u001b[39;00m sessions\u001b[38;5;241m.\u001b[39mSession() \u001b[38;5;28;01mas\u001b[39;00m session:\n\u001b[0;32m---> 59\u001b[0m     \u001b[38;5;28;01mreturn\u001b[39;00m \u001b[43msession\u001b[49m\u001b[38;5;241;43m.\u001b[39;49m\u001b[43mrequest\u001b[49m\u001b[43m(\u001b[49m\u001b[43mmethod\u001b[49m\u001b[38;5;241;43m=\u001b[39;49m\u001b[43mmethod\u001b[49m\u001b[43m,\u001b[49m\u001b[43m \u001b[49m\u001b[43murl\u001b[49m\u001b[38;5;241;43m=\u001b[39;49m\u001b[43murl\u001b[49m\u001b[43m,\u001b[49m\u001b[43m \u001b[49m\u001b[38;5;241;43m*\u001b[39;49m\u001b[38;5;241;43m*\u001b[39;49m\u001b[43mkwargs\u001b[49m\u001b[43m)\u001b[49m\n",
            "File \u001b[0;32m~/Library/Caches/pypoetry/virtualenvs/payment-service-tq1v0Dxv-py3.12/lib/python3.12/site-packages/requests/sessions.py:589\u001b[0m, in \u001b[0;36mSession.request\u001b[0;34m(self, method, url, params, data, headers, cookies, files, auth, timeout, allow_redirects, proxies, hooks, stream, verify, cert, json)\u001b[0m\n\u001b[1;32m    584\u001b[0m send_kwargs \u001b[38;5;241m=\u001b[39m {\n\u001b[1;32m    585\u001b[0m     \u001b[38;5;124m\"\u001b[39m\u001b[38;5;124mtimeout\u001b[39m\u001b[38;5;124m\"\u001b[39m: timeout,\n\u001b[1;32m    586\u001b[0m     \u001b[38;5;124m\"\u001b[39m\u001b[38;5;124mallow_redirects\u001b[39m\u001b[38;5;124m\"\u001b[39m: allow_redirects,\n\u001b[1;32m    587\u001b[0m }\n\u001b[1;32m    588\u001b[0m send_kwargs\u001b[38;5;241m.\u001b[39mupdate(settings)\n\u001b[0;32m--> 589\u001b[0m resp \u001b[38;5;241m=\u001b[39m \u001b[38;5;28;43mself\u001b[39;49m\u001b[38;5;241;43m.\u001b[39;49m\u001b[43msend\u001b[49m\u001b[43m(\u001b[49m\u001b[43mprep\u001b[49m\u001b[43m,\u001b[49m\u001b[43m \u001b[49m\u001b[38;5;241;43m*\u001b[39;49m\u001b[38;5;241;43m*\u001b[39;49m\u001b[43msend_kwargs\u001b[49m\u001b[43m)\u001b[49m\n\u001b[1;32m    591\u001b[0m \u001b[38;5;28;01mreturn\u001b[39;00m resp\n",
            "File \u001b[0;32m~/Library/Caches/pypoetry/virtualenvs/payment-service-tq1v0Dxv-py3.12/lib/python3.12/site-packages/requests/sessions.py:703\u001b[0m, in \u001b[0;36mSession.send\u001b[0;34m(self, request, **kwargs)\u001b[0m\n\u001b[1;32m    700\u001b[0m start \u001b[38;5;241m=\u001b[39m preferred_clock()\n\u001b[1;32m    702\u001b[0m \u001b[38;5;66;03m# Send the request\u001b[39;00m\n\u001b[0;32m--> 703\u001b[0m r \u001b[38;5;241m=\u001b[39m \u001b[43madapter\u001b[49m\u001b[38;5;241;43m.\u001b[39;49m\u001b[43msend\u001b[49m\u001b[43m(\u001b[49m\u001b[43mrequest\u001b[49m\u001b[43m,\u001b[49m\u001b[43m \u001b[49m\u001b[38;5;241;43m*\u001b[39;49m\u001b[38;5;241;43m*\u001b[39;49m\u001b[43mkwargs\u001b[49m\u001b[43m)\u001b[49m\n\u001b[1;32m    705\u001b[0m \u001b[38;5;66;03m# Total elapsed time of the request (approximately)\u001b[39;00m\n\u001b[1;32m    706\u001b[0m elapsed \u001b[38;5;241m=\u001b[39m preferred_clock() \u001b[38;5;241m-\u001b[39m start\n",
            "File \u001b[0;32m~/Library/Caches/pypoetry/virtualenvs/payment-service-tq1v0Dxv-py3.12/lib/python3.12/site-packages/requests/adapters.py:700\u001b[0m, in \u001b[0;36mHTTPAdapter.send\u001b[0;34m(self, request, stream, timeout, verify, cert, proxies)\u001b[0m\n\u001b[1;32m    696\u001b[0m     \u001b[38;5;28;01mif\u001b[39;00m \u001b[38;5;28misinstance\u001b[39m(e\u001b[38;5;241m.\u001b[39mreason, _SSLError):\n\u001b[1;32m    697\u001b[0m         \u001b[38;5;66;03m# This branch is for urllib3 v1.22 and later.\u001b[39;00m\n\u001b[1;32m    698\u001b[0m         \u001b[38;5;28;01mraise\u001b[39;00m SSLError(e, request\u001b[38;5;241m=\u001b[39mrequest)\n\u001b[0;32m--> 700\u001b[0m     \u001b[38;5;28;01mraise\u001b[39;00m \u001b[38;5;167;01mConnectionError\u001b[39;00m(e, request\u001b[38;5;241m=\u001b[39mrequest)\n\u001b[1;32m    702\u001b[0m \u001b[38;5;28;01mexcept\u001b[39;00m ClosedPoolError \u001b[38;5;28;01mas\u001b[39;00m e:\n\u001b[1;32m    703\u001b[0m     \u001b[38;5;28;01mraise\u001b[39;00m \u001b[38;5;167;01mConnectionError\u001b[39;00m(e, request\u001b[38;5;241m=\u001b[39mrequest)\n",
            "\u001b[0;31mConnectionError\u001b[0m: HTTPSConnectionPool(host='api.example.com', port=443): Max retries exceeded with url: /data (Caused by NameResolutionError(\"<urllib3.connection.HTTPSConnection object at 0x107a4f530>: Failed to resolve 'api.example.com' ([Errno 8] nodename nor servname provided, or not known)\"))"
          ]
        }
      ],
      "source": [
        "response = requests.get('https://api.example.com/data')\n",
        "data = response.json()  # Декодируем JSON\n",
        "print(data['ключ'])  # Выводим значение по ключу"
      ]
    },
    {
      "cell_type": "markdown",
      "metadata": {
        "id": "j1AiWoji_QHt"
      },
      "source": [
        "## Ваши вопросы"
      ],
      "id": "j1AiWoji_QHt"
    },
    {
      "cell_type": "markdown",
      "id": "0d37f9de-40ce-4cf6-b51c-bea1066ea227",
      "metadata": {
        "id": "0d37f9de-40ce-4cf6-b51c-bea1066ea227"
      },
      "source": [
        "# 5. Заголовки HTTP\n",
        "\n",
        "Заголовки HTTP (HTTP Headers) — это строки в HTTP-сообщении, содержащие разделённую двоеточием пару имя-значение. Они используются для передачи дополнительной информации между клиентом и сервером. Заголовки могут содержать информацию о типе содержимого, длине данных, а также о различных параметрах запроса и ответа.\n",
        "\n",
        "## Общий формат заголовков\n",
        "\n",
        "- **Название заголовка** должно состоять минимум из одного печатного символа (ASCII-коды от 33 до 126). Регистр символов не имеет значения.\n",
        "- **Значение заголовка** может содержать любые символы ASCII, кроме перевода строки и возврата каретки. Пробелы в начале и конце значения обрезаются.\n",
        "\n",
        "**Пример заголовка:**"
      ]
    },
    {
      "cell_type": "raw",
      "id": "daf50d29-cf39-4856-9a46-78ab73ad9405",
      "metadata": {
        "id": "daf50d29-cf39-4856-9a46-78ab73ad9405"
      },
      "source": [
        "Content-Type: text/html; charset=UTF-8"
      ]
    },
    {
      "cell_type": "markdown",
      "metadata": {
        "id": "96d24c92-1527-4d55-8bca-171f10d40af1"
      },
      "source": [
        "\n",
        "## Основные группы заголовков\n",
        "\n",
        "Заголовки HTTP делятся на четыре основные группы:\n",
        "\n",
        "1. **Общие заголовки (General Headers)** — применяются как к запросам, так и к ответам, но не относятся к содержимому\n",
        "2. **Заголовки запроса (Request Headers)** — используются только в запросах клиента\n",
        "3. **Заголовки ответа (Response Headers)** — применяются только для ответов от сервера\n",
        "4. **Заголовки сущности (Entity Headers)** — сопровождают каждую сущность сообщения\n",
        "\n",
        "## Примеры заголовков\n",
        "\n",
        "- **Accept** — указывает типы контента, которые клиент может обрабатывать\n",
        "- **User-Agent** — информирует сервер о типе клиента (браузера) и его версии\n",
        "- **Referer** — указывает URL ресурса, с которого был сделан запрос\n",
        "- **Content-Type** — указывает MIME-тип отправленного контента\n",
        "- **Content-Length** — определяет длину тела сообщения\n",
        "\n",
        "## Работа с заголовками\n",
        "\n",
        "Заголовки могут быть установлены в HTTP-запросах и ответах. Например, при использовании библиотеки `requests` в Python можно установить заголовки следующим образом:\n",
        "\n",
        "```python\n",
        "import requests\n",
        "\n",
        "headers = {\n",
        "    'User-Agent': 'Mozilla/5.0',\n",
        "    'Accept': 'text/html',\n",
        "}\n",
        "\n",
        "response = requests.get('https://example.com', headers=headers)\n",
        "print(response.content)"
      ],
      "id": "96d24c92-1527-4d55-8bca-171f10d40af1"
    },
    {
      "cell_type": "markdown",
      "metadata": {
        "id": "GlQ8ackLv3fg"
      },
      "source": [
        "## Ваши вопросы"
      ],
      "id": "GlQ8ackLv3fg"
    },
    {
      "cell_type": "markdown",
      "id": "fcc427af",
      "metadata": {
        "id": "fcc427af"
      },
      "source": [
        "# 6. Статус-коды"
      ]
    },
    {
      "cell_type": "markdown",
      "metadata": {
        "id": "j4uUeJ_c68IO"
      },
      "source": [
        "## Классы статус-кодов\n",
        "\n",
        "### Информационные (1xx)\n",
        "Эти коды указывают на то, что запрос был принят и обрабатывается. Они редко используются в обычных веб-приложениях. Примеры:\n",
        "- **100 Continue** — клиент может продолжать отправку запроса.\n",
        "- **101 Switching Protocols** — сервер согласен на изменение протокола.\n",
        "\n",
        "### Успешные (2xx)\n",
        "Эти коды обозначают успешное выполнение запроса. Наиболее распространенные:\n",
        "- **200 OK** — запрос успешно выполнен.\n",
        "- **201 Created** — новый ресурс был успешно создан.\n",
        "- **204 No Content** — запрос выполнен, но нет содержимого для отправки.\n",
        "\n",
        "### Перенаправление (3xx)\n",
        "Эти коды указывают, что для завершения запроса необходимы дополнительные действия. Примеры:\n",
        "- **301 Moved Permanently** — ресурс был перемещен на постоянной основе.\n",
        "- **302 Found** — ресурс временно доступен по другому URL.\n",
        "\n",
        "### Ошибки клиента (4xx)\n",
        "Эти коды сигнализируют о том, что произошла ошибка со стороны клиента. Примеры:\n",
        "- **400 Bad Request** — неверный запрос.\n",
        "- **404 Not Found** — запрашиваемый ресурс не найден.\n",
        "- **403 Forbidden** — доступ запрещен.\n",
        "\n",
        "### Ошибки сервера (5xx)\n",
        "Эти коды указывают на ошибки, возникшие на стороне сервера. Примеры:\n",
        "- **500 Internal Server Error** — внутренняя ошибка сервера.\n",
        "- **502 Bad Gateway** — неверный ответ от вышестоящего сервера.\n",
        "- **503 Service Unavailable** — сервер временно недоступен.\n"
      ],
      "id": "j4uUeJ_c68IO"
    },
    {
      "cell_type": "markdown",
      "id": "2f10a944",
      "metadata": {
        "id": "2f10a944"
      },
      "source": [
        "## Обработка разных статус-кодов"
      ]
    },
    {
      "cell_type": "code",
      "execution_count": null,
      "id": "3fc04c42",
      "metadata": {
        "id": "3fc04c42"
      },
      "outputs": [],
      "source": [
        "import requests\n",
        "\n",
        "def get_request(url):\n",
        "    try:\n",
        "        response = requests.get(url)\n",
        "        response.raise_for_status()  # Проверка на успешный ответ (код 200)\n",
        "        return response.json()  # Возврат JSON-ответа\n",
        "    except requests.exceptions.HTTPError as http_err:\n",
        "        print(f\"HTTP ошибка: {http_err}\")\n",
        "    except requests.exceptions.RequestException as err:\n",
        "        print(f\"Ошибка запроса: {err}\")\n",
        "\n",
        "url = \"https://api.example.com/data\"\n",
        "data = get_request(url)\n",
        "if data:\n",
        "    print(data)\n"
      ]
    },
    {
      "cell_type": "code",
      "execution_count": null,
      "id": "038d6a43",
      "metadata": {
        "id": "038d6a43"
      },
      "outputs": [],
      "source": [
        "import requests\n",
        "\n",
        "def post_request(url, data):\n",
        "    try:\n",
        "        response = requests.post(url, json=data)\n",
        "        response.raise_for_status()  # Проверка на успешный ответ (код 200)\n",
        "        return response.json()  # Возврат JSON-ответа\n",
        "    except requests.exceptions.HTTPError as http_err:\n",
        "        print(f\"HTTP ошибка: {http_err}\")\n",
        "    except requests.exceptions.RequestException as err:\n",
        "        print(f\"Ошибка запроса: {err}\")\n",
        "\n",
        "url = \"https://api.example.com/data\"\n",
        "data = {\"key1\": \"value1\", \"key2\": \"value2\"}\n",
        "response_data = post_request(url, data)\n",
        "if response_data:\n",
        "    print(response_data)\n"
      ]
    },
    {
      "cell_type": "markdown",
      "id": "caa51d2d",
      "metadata": {
        "id": "caa51d2d"
      },
      "source": [
        "## Ещё примеры"
      ]
    },
    {
      "cell_type": "code",
      "execution_count": null,
      "id": "87d50d4a",
      "metadata": {
        "id": "87d50d4a",
        "outputId": "674162f2-8c64-4092-ef87-930509bea99f"
      },
      "outputs": [
        {
          "name": "stdout",
          "output_type": "stream",
          "text": [
            "Пользователь: jukplavunec, Подписчиков: 5\n"
          ]
        }
      ],
      "source": [
        "import requests\n",
        "\n",
        "def get_github_user(username):\n",
        "    url = f\"https://api.github.com/users/{username}\"\n",
        "    try:\n",
        "        response = requests.get(url)\n",
        "        response.raise_for_status()  # Проверка на успешный ответ\n",
        "        user_data = response.json()\n",
        "        print(f\"Пользователь: {user_data['login']}, Подписчиков: {user_data['followers']}\")\n",
        "    except requests.exceptions.HTTPError as http_err:\n",
        "        print(f\"HTTP ошибка: {http_err}\")\n",
        "    except requests.exceptions.RequestException as err:\n",
        "        print(f\"Ошибка запроса: {err}\")\n",
        "\n",
        "get_github_user(\"jukplavunec\")\n"
      ]
    },
    {
      "cell_type": "code",
      "execution_count": null,
      "id": "4340d6e0",
      "metadata": {
        "id": "4340d6e0",
        "outputId": "ad7b999c-4e27-4df5-ddae-6dcbd71adaa8"
      },
      "outputs": [
        {
          "name": "stdout",
          "output_type": "stream",
          "text": [
            "Найдено 15607073 репозиториев на языке python.\n",
            "Название: Python, Звезды: 196302, URL: https://github.com/TheAlgorithms/Python\n",
            "Название: yt-dlp, Звезды: 95853, URL: https://github.com/yt-dlp/yt-dlp\n",
            "Название: whisper, Звезды: 74076, URL: https://github.com/openai/whisper\n",
            "Название: manim, Звезды: 73822, URL: https://github.com/3b1b/manim\n",
            "Название: gpt_academic, Звезды: 66822, URL: https://github.com/binary-husky/gpt_academic\n"
          ]
        }
      ],
      "source": [
        "import requests\n",
        "\n",
        "def search_repositories(language):\n",
        "    url = f\"https://api.github.com/search/repositories?q=language:{language}&sort=stars&order=desc\"\n",
        "    try:\n",
        "        response = requests.get(url)\n",
        "        response.raise_for_status()  # Проверка на успешный ответ\n",
        "        data = response.json()\n",
        "        repos = data['items']\n",
        "\n",
        "        print(f\"Найдено {data['total_count']} репозиториев на языке {language}.\")\n",
        "        for repo in repos[:5]:  # Выводим только первые 5 репозиториев\n",
        "            print(f\"Название: {repo['name']}, Звезды: {repo['stargazers_count']}, URL: {repo['html_url']}\")\n",
        "    except requests.exceptions.HTTPError as http_err:\n",
        "        print(f\"HTTP ошибка: {http_err}\")\n",
        "    except requests.exceptions.RequestException as err:\n",
        "        print(f\"Ошибка запроса: {err}\")\n",
        "\n",
        "search_repositories(\"python\")\n"
      ]
    },
    {
      "cell_type": "code",
      "execution_count": null,
      "id": "597f2df7",
      "metadata": {
        "id": "597f2df7",
        "outputId": "37cd9a64-4cc8-4279-daa3-41b7772824d5"
      },
      "outputs": [
        {
          "name": "stdout",
          "output_type": "stream",
          "text": [
            "Последние коммиты в репозитории Hello-World:\n",
            "Сообщение: Merge pull request #6 from Spaceghost/patch-1\n",
            "\n",
            "New line at end of file., Автор: The Octocat, Дата: 2012-03-06T23:06:50Z\n",
            "Сообщение: New line at end of file. --Signed off by Spaceghost, Автор: Johnneylee Jack Rollins, Дата: 2011-09-14T04:42:41Z\n",
            "Сообщение: first commit, Автор: cameronmcefee, Дата: 2011-01-26T19:06:08Z\n"
          ]
        }
      ],
      "source": [
        "import requests\n",
        "\n",
        "def get_commits(owner, repo):\n",
        "    url = f\"https://api.github.com/repos/{owner}/{repo}/commits\"\n",
        "    try:\n",
        "        response = requests.get(url)\n",
        "        response.raise_for_status()  # Проверка на успешный ответ\n",
        "        commits = response.json()\n",
        "\n",
        "        print(f\"Последние коммиты в репозитории {repo}:\")\n",
        "        for commit in commits[:5]:  # Выводим только первые 5 коммитов\n",
        "            print(f\"Сообщение: {commit['commit']['message']}, Автор: {commit['commit']['author']['name']}, Дата: {commit['commit']['author']['date']}\")\n",
        "    except requests.exceptions.HTTPError as http_err:\n",
        "        print(f\"HTTP ошибка: {http_err}\")\n",
        "    except requests.exceptions.RequestException as err:\n",
        "        print(f\"Ошибка запроса: {err}\")\n",
        "\n",
        "get_commits(\"octocat\", \"Hello-World\")\n"
      ]
    },
    {
      "cell_type": "markdown",
      "metadata": {
        "id": "PI4nW5YmBPbh"
      },
      "source": [
        "## Ваши вопросы"
      ],
      "id": "PI4nW5YmBPbh"
    },
    {
      "cell_type": "markdown",
      "source": [
        "## Итоги занятия"
      ],
      "metadata": {
        "id": "rLeXTjq8buDx"
      },
      "id": "rLeXTjq8buDx"
    },
    {
      "cell_type": "markdown",
      "metadata": {
        "tags": [],
        "id": "qAH8FQZux_mf"
      },
      "source": [
        "- Узнали, что такое API у сторонних сервисов и для чего его используют\n",
        "- Поняли основы работы с API"
      ],
      "id": "qAH8FQZux_mf"
    },
    {
      "cell_type": "markdown",
      "id": "3d900e90",
      "metadata": {
        "id": "3d900e90"
      },
      "source": [
        "# Домашнее задание по работе с API на Python\n",
        "\n",
        "## Задание 1: Получение данных из публичного API\n",
        "\n",
        "**Цель:** Научиться отправлять GET-запросы и обрабатывать JSON-ответы.\n",
        "\n",
        "1. Выберите публичный API (например, [JSONPlaceholder](https://jsonplaceholder.typicode.com/)).\n",
        "2. Напишите скрипт, который:\n",
        "   - Отправляет GET-запрос к `/posts`.\n",
        "   - Извлекает и выводит заголовки и тела первых 5 постов."
      ]
    },
    {
      "cell_type": "markdown",
      "id": "0ae67da2",
      "metadata": {
        "id": "0ae67da2"
      },
      "source": [
        "## Задание 2: Работа с параметрами запроса\n",
        "\n",
        "**Цель:** Научиться передавать параметры в запросах.\n",
        "\n",
        "1. Используйте API [OpenWeatherMap](https://openweathermap.org/api) для получения данных о погоде.\n",
        "2. Напишите программу, которая:\n",
        "   - Принимает название города от пользователя.\n",
        "   - Отправляет GET-запрос к API и выводит текущую температуру и описание погоды."
      ]
    },
    {
      "cell_type": "markdown",
      "metadata": {
        "id": "SBQKwWhcBOm3"
      },
      "source": [
        "## Ваши вопросы"
      ],
      "id": "SBQKwWhcBOm3"
    }
  ],
  "metadata": {
    "kernelspec": {
      "display_name": "Python 3 (ipykernel)",
      "language": "python",
      "name": "python3"
    },
    "language_info": {
      "codemirror_mode": {
        "name": "ipython",
        "version": 3
      },
      "file_extension": ".py",
      "mimetype": "text/x-python",
      "name": "python",
      "nbconvert_exporter": "python",
      "pygments_lexer": "ipython3",
      "version": "3.12.6"
    },
    "colab": {
      "provenance": []
    }
  },
  "nbformat": 4,
  "nbformat_minor": 5
}